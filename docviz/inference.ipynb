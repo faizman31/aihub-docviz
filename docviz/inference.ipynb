{
 "cells": [
  {
   "cell_type": "code",
   "execution_count": null,
   "metadata": {
    "vscode": {
     "languageId": "plaintext"
    }
   },
   "outputs": [],
   "source": [
    "import os\n",
    "import torch\n",
    "import datasets\n",
    "from transformers import (\n",
    "    LlavaNextForConditionalGeneration,\n",
    "    LlavaNextProcessor\n",
    ")\n",
    "hf_token = os.environ['HF_TOKEN']"
   ]
  },
  {
   "cell_type": "code",
   "execution_count": null,
   "metadata": {
    "vscode": {
     "languageId": "plaintext"
    }
   },
   "outputs": [],
   "source": [
    "model = LlavaNextForConditionalGeneration.from_pretrained(\n",
    "    'ShinDJ/llava-next-docviz',\n",
    "    attn_implementation='flash_attention_2',\n",
    "    torch_dtype=torch.bfloat16,\n",
    "    token=hf_token\n",
    ").to('cuda:0')\n",
    "\n",
    "processor = LlavaNextProcessor.from_pretrained('ShinDJ/llava-next-docviz',token=hf_token)\n",
    "test_data = datasets.load_dataset('MLP-VLM/bllossom-vision','aihub-docviz',split='test')"
   ]
  },
  {
   "cell_type": "code",
   "execution_count": null,
   "metadata": {
    "vscode": {
     "languageId": "plaintext"
    }
   },
   "outputs": [],
   "source": [
    "idx = 303\n",
    "image = test_data[idx]['images']\n",
    "message = [\n",
    "    {'role':'user','content': '<image>\\n'+test_data[idx]['instruction']}\n",
    "]\n",
    "response = test_data[idx]['response']\n",
    "chat_message = processor.tokenizer.apply_chat_template(message,tokenize=False,add_generation_prompt=True)\n",
    "\n",
    "inputs = processor(\n",
    "    text=chat_message,\n",
    "    images=image,\n",
    "    add_special_tokens=False,\n",
    "    return_tensors='pt'\n",
    ").to(model.device)\n",
    "\n",
    "output = model.generate(**inputs,max_new_tokens=512)\n",
    "output_texts = processor.tokenizer.decode(output[0],eos_token_id=processor.tokenizer.convert_tokens_to_ids('<|eot_id|>'))\n",
    "\n",
    "start_idx = output_texts.find('assistant<|end_header_id|>\\n\\n') + len('assistant<|end_header_id|>\\n\\n')\n",
    "image.show()\n",
    "print(\"Predict :: \",output_texts[start_idx:].replace('<|eot_id|>',''))\n",
    "print(\"Label :: \",response)"
   ]
  }
 ],
 "metadata": {
  "language_info": {
   "name": "python"
  }
 },
 "nbformat": 4,
 "nbformat_minor": 2
}
